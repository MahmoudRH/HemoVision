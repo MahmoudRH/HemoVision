{
  "nbformat": 4,
  "nbformat_minor": 0,
  "metadata": {
    "colab": {
      "provenance": [],
      "gpuType": "T4",
      "mount_file_id": "1INspq_ug5Ds1vt-ke0bKkbFJAs_N8bdH",
      "authorship_tag": "ABX9TyMVQv+svK1it3+1rfL1Q55+",
      "include_colab_link": true
    },
    "kernelspec": {
      "name": "python3",
      "display_name": "Python 3"
    },
    "language_info": {
      "name": "python"
    },
    "accelerator": "GPU",
    "gpuClass": "standard"
  },
  "cells": [
    {
      "cell_type": "markdown",
      "metadata": {
        "id": "view-in-github",
        "colab_type": "text"
      },
      "source": [
        "<a href=\"https://colab.research.google.com/github/MahmoudRH/HemoVision/blob/Models/Abnormal_shapes_blood.ipynb\" target=\"_parent\"><img src=\"https://colab.research.google.com/assets/colab-badge.svg\" alt=\"Open In Colab\"/></a>"
      ]
    },
    {
      "cell_type": "code",
      "execution_count": null,
      "metadata": {
        "id": "9XKMju57ROw3"
      },
      "outputs": [],
      "source": [
        "!git clone https://github.com/ultralytics/yolov5"
      ]
    },
    {
      "cell_type": "code",
      "source": [
        "!pip install -r yolov5/requirements.txt"
      ],
      "metadata": {
        "id": "W4SmBHa-RX5R"
      },
      "execution_count": null,
      "outputs": []
    },
    {
      "cell_type": "code",
      "source": [
        "import torch\n",
        "from IPython.display import Image  \n",
        "import os \n",
        "import random\n",
        "import shutil\n",
        "import xml.etree.ElementTree as ET\n",
        "from xml.dom import minidom\n",
        "from tqdm import tqdm\n",
        "from PIL import Image, ImageDraw\n",
        "import numpy as np\n",
        "import matplotlib.pyplot as plt"
      ],
      "metadata": {
        "id": "F1bc7oKDRX1m"
      },
      "execution_count": null,
      "outputs": []
    },
    {
      "cell_type": "code",
      "source": [
        "!git clone https://github.com/Chula-PIC-Lab/Chula-RBC-12-Dataset.git"
      ],
      "metadata": {
        "colab": {
          "base_uri": "https://localhost:8080/"
        },
        "id": "7R_ZQzgQRXzC",
        "outputId": "1803b228-353b-4a43-e2be-540c192774ce"
      },
      "execution_count": null,
      "outputs": [
        {
          "output_type": "stream",
          "name": "stdout",
          "text": [
            "Cloning into 'Chula-RBC-12-Dataset'...\n",
            "remote: Enumerating objects: 1848, done.\u001b[K\n",
            "remote: Counting objects: 100% (4/4), done.\u001b[K\n",
            "remote: Compressing objects: 100% (3/3), done.\u001b[K\n",
            "remote: Total 1848 (delta 2), reused 1 (delta 1), pack-reused 1844\u001b[K\n",
            "Receiving objects: 100% (1848/1848), 192.95 MiB | 21.91 MiB/s, done.\n",
            "Resolving deltas: 100% (240/240), done.\n"
          ]
        }
      ]
    },
    {
      "cell_type": "code",
      "source": [
        "os.remove(\"/content/Chula-RBC-12-Dataset/Label/.DS_Store\")"
      ],
      "metadata": {
        "id": "dup4pZDUqMaN"
      },
      "execution_count": null,
      "outputs": []
    },
    {
      "cell_type": "code",
      "source": [
        "import os\n",
        "import numpy as np\n",
        "height=60\n",
        "width=90\n",
        "folder=\"/content/Chula-RBC-12-Dataset/Label\"\n",
        "list_folder=os.listdir(folder)\n",
        "image_w=640\n",
        "image_h=480\n",
        "for x in list_folder:\n",
        "    file_path=os.path.join(folder,x)\n",
        "    final_arr = list()\n",
        "    with open(file_path, 'r') as filex:\n",
        "        # Read and print each line\n",
        "        for line in filex:\n",
        "            line_values = line.split(\" \")\n",
        "            class_id=int(line_values[-1][0])\n",
        "            if class_id != 0:\n",
        "\n",
        "                b_center_x = float(line_values[0])\n",
        "                b_center_y = float(line_values[1])\n",
        "                b_width    = width\n",
        "                b_height   = height\n",
        "\n",
        "                b_center_x /= image_w \n",
        "                b_center_y /= image_h \n",
        "                b_width    /= image_w \n",
        "                b_height   /= image_h \n",
        "   \n",
        "                final_arr.append([int(class_id-1),round(b_center_x, 4) ,round(b_center_y, 4), round(b_width, 4), round(b_height, 4)])\n",
        "\n",
        "    with open(file_path, 'w') as filez:\n",
        "        for subarray in final_arr:\n",
        "            np.savetxt(filez, [subarray], fmt='%s')"
      ],
      "metadata": {
        "id": "b4UDhqD4t_ka"
      },
      "execution_count": null,
      "outputs": []
    },
    {
      "cell_type": "code",
      "source": [
        "import os \n",
        "os.mkdir(\"/content/dataset\")\n",
        "os.mkdir(\"/content/dataset/images\")\n",
        "os.mkdir(\"/content/dataset/labels\")\n",
        "os.mkdir(\"/content/dataset/images/train\")\n",
        "os.mkdir(\"/content/dataset/images/val\")\n",
        "os.mkdir(\"/content/dataset/images/test\")\n",
        "os.mkdir(\"/content/dataset/labels/train\")\n",
        "os.mkdir(\"/content/dataset/labels/val\")\n",
        "os.mkdir(\"/content/dataset/labels/test\")\n",
        "\n",
        "images_folder=\"/content/Chula-RBC-12-Dataset/Dataset\"\n",
        "labels_folder=\"/content/Chula-RBC-12-Dataset/Label\"\n",
        "\n",
        "images_folder_train=\"/content/dataset/images/train\"\n",
        "images_folder_val=\"/content/dataset/images/val\"\n",
        "\n",
        "images_folder_test=\"/content/dataset/images/test\"\n",
        "labels_folder_train=\"/content/dataset/labels/train\"\n",
        "\n",
        "labels_folder_val=\"/content/dataset/labels/val\"\n",
        "labels_folder_test=\"/content/dataset/labels/test\"\n",
        "\n",
        "\n",
        "images_folder_arr=os.listdir(images_folder)\n",
        "labels_folder_arr=os.listdir(labels_folder)\n",
        "\n",
        "val_percentage = 20\n",
        "test_percentage = 10\n",
        "\n",
        "val_num_files_to_move = int(len(images_folder_arr) * val_percentage / 100)\n",
        "print(\"num_files_to_move: \",val_num_files_to_move)\n",
        "val_files_to_move = random.sample(images_folder_arr, val_num_files_to_move)\n",
        "# print(\"files_to_move: \",files_to_move)\n",
        "for file in val_files_to_move:\n",
        "  try:\n",
        "      src_path_image = os.path.join(images_folder, file)\n",
        "      dst_path_image = os.path.join(images_folder_val, file)\n",
        "      shutil.move(src_path_image, dst_path_image)\n",
        "\n",
        "      lab_src_path = os.path.join(labels_folder, str(file.split(\".\")[0])+\".txt\" )\n",
        "      lab_dst_path = os.path.join(labels_folder_val, str(file.split(\".\")[0])+\".txt\" )\n",
        "      shutil.move(lab_src_path, lab_dst_path)\n",
        "  except:\n",
        "    pass\n",
        "# ***************************************************************************\n",
        "test_num_files_to_move = int(len(images_folder_arr) * test_percentage / 100)\n",
        "print(\"num_files_to_move: \",test_num_files_to_move)\n",
        "test_files_to_move = random.sample(images_folder_arr, test_num_files_to_move)\n",
        "# print(\"files_to_move: \",files_to_move)\n",
        "for file in test_files_to_move:\n",
        "    try:\n",
        "      src_path_images = os.path.join(images_folder, file)\n",
        "      dst_path_images = os.path.join(images_folder_test, file)\n",
        "      shutil.move(src_path_images, dst_path_images)\n",
        "\n",
        "      lab_src_path = os.path.join(labels_folder, str(file.split(\".\")[0])+\".txt\" )\n",
        "      lab_dst_path = os.path.join(labels_folder_test, str(file.split(\".\")[0])+\".txt\" )\n",
        "      shutil.move(lab_src_path, lab_dst_path)\n",
        "    except:\n",
        "\n",
        "      pass\n",
        "# ***************************************************************************\n",
        "\n"
      ],
      "metadata": {
        "colab": {
          "base_uri": "https://localhost:8080/"
        },
        "id": "XQ8yybDUXf-L",
        "outputId": "664724f7-d075-459e-b9c6-7a699d17c2b7"
      },
      "execution_count": null,
      "outputs": [
        {
          "output_type": "stream",
          "name": "stdout",
          "text": [
            "num_files_to_move:  147\n",
            "num_files_to_move:  73\n"
          ]
        }
      ]
    },
    {
      "cell_type": "code",
      "source": [
        "images_folder=\"/content/Chula-RBC-12-Dataset/Dataset\"\n",
        "labels_folder_train=\"/content/dataset/labels/train\"\n",
        "images_folder_train=\"/content/dataset/images/train\"\n",
        "images_folder_arr=os.listdir(images_folder)\n",
        "\n",
        "for file1 in images_folder_arr:\n",
        "    try:\n",
        "      src_path_images = os.path.join(images_folder, file1)\n",
        "      dst_path_images = os.path.join(images_folder_train, file1)\n",
        "      shutil.move(src_path_images, dst_path_images)\n",
        "\n",
        "      lab_src_path = os.path.join(labels_folder, str(file1.split(\".\")[0])+\".txt\" )\n",
        "      lab_dst_path = os.path.join(labels_folder_train, str(file1.split(\".\")[0])+\".txt\" )\n",
        "      shutil.move(lab_src_path, lab_dst_path)\n",
        "    except:\n",
        "      pass\n"
      ],
      "metadata": {
        "id": "vnFymaGm1isn"
      },
      "execution_count": null,
      "outputs": []
    },
    {
      "cell_type": "markdown",
      "source": [
        "## Create a data file"
      ],
      "metadata": {
        "id": "M3xYQMIj2pK5"
      }
    },
    {
      "cell_type": "code",
      "source": [
        "#create file contain paths for dataset and classes\n",
        "with open('rbc_data.yaml', 'w') as f:\n",
        "    f.write('train: ../dataset/images/train\\n')\n",
        "    f.write('val: ../dataset/images/val\\n')\n",
        "    f.write('test: ../dataset/images/test\\n')\n",
        "    f.write('nc: 12\\n')\n",
        "    f.write('names: [\"Macrocyte\", \"Microcyte\", \"Spherocyte\", \"Target cell\", \"Stomatocyte\", \"Ovalocyte\", \"Teardrop\", \"Burr cell\", \"Schistocyte\", \"uncategorised\", \"Hypochromia\", \"Elliptocyte\"]\\n')\n"
      ],
      "metadata": {
        "id": "YuY8FN6W21kn"
      },
      "execution_count": null,
      "outputs": []
    },
    {
      "cell_type": "markdown",
      "source": [
        "## Train"
      ],
      "metadata": {
        "id": "JHo_2nml2V_B"
      }
    },
    {
      "cell_type": "code",
      "source": [
        "!python /content/yolov5/train.py  --img 416 --batch 16 --epochs 50 --data /content/rbc_data.yaml --weights yolov5s.pt\n"
      ],
      "metadata": {
        "id": "msMz87mn21e5"
      },
      "execution_count": null,
      "outputs": []
    },
    {
      "cell_type": "markdown",
      "source": [
        "## Save model on google drive"
      ],
      "metadata": {
        "id": "xgvkgo2A2ZHh"
      }
    },
    {
      "cell_type": "code",
      "source": [
        "!cp -r \"/content/yolov5/runs/train\" \"/content/drive/MyDrive/70kmodel\""
      ],
      "metadata": {
        "id": "0QQokNr94FvT"
      },
      "execution_count": null,
      "outputs": []
    },
    {
      "cell_type": "markdown",
      "source": [
        "## Predict "
      ],
      "metadata": {
        "id": "nfCtdkxj2h4g"
      }
    },
    {
      "cell_type": "code",
      "source": [
        "!python /content/yolov5/detect.py  --source  /content/dataset/images/test --weights /content/drive/MyDrive/70kmodel/train/exp/weights/best-fp16.tflite --conf 0.25  --img 416 --data /content/rbc_data.yaml\n"
      ],
      "metadata": {
        "id": "wqk-sDAudcUd"
      },
      "execution_count": null,
      "outputs": []
    },
    {
      "cell_type": "markdown",
      "source": [
        "## Export"
      ],
      "metadata": {
        "id": "-dCKvVF42kuq"
      }
    },
    {
      "cell_type": "code",
      "source": [
        "!python  /content/yolov5/export.py  --weights /content/drive/MyDrive/70kmodel/train/exp/weights/best.pt --include tflite --img 416 --data /content/rbc_data.yaml\n"
      ],
      "metadata": {
        "id": "KjaBLkDi4Fq5"
      },
      "execution_count": null,
      "outputs": []
    }
  ]
}