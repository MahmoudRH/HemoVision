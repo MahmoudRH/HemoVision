{
  "nbformat": 4,
  "nbformat_minor": 0,
  "metadata": {
    "colab": {
      "provenance": [],
      "authorship_tag": "ABX9TyMMTOpevhPnxD3ICNpF/Bo6",
      "include_colab_link": true
    },
    "kernelspec": {
      "name": "python3",
      "display_name": "Python 3"
    },
    "language_info": {
      "name": "python"
    },
    "accelerator": "GPU",
    "gpuClass": "standard"
  },
  "cells": [
    {
      "cell_type": "markdown",
      "metadata": {
        "id": "view-in-github",
        "colab_type": "text"
      },
      "source": [
        "<a href=\"https://colab.research.google.com/github/MahmoudRH/HemoVision/blob/Models/CBC_Model.ipynb\" target=\"_parent\"><img src=\"https://colab.research.google.com/assets/colab-badge.svg\" alt=\"Open In Colab\"/></a>"
      ]
    },
    {
      "cell_type": "code",
      "source": [
        "!git clone https://github.com/ultralytics/yolov5"
      ],
      "metadata": {
        "id": "yQepKGxuq899"
      },
      "execution_count": null,
      "outputs": []
    },
    {
      "cell_type": "code",
      "source": [
        "!pip install -r yolov5/requirements.txt"
      ],
      "metadata": {
        "id": "Mzsxiuw-q_rY"
      },
      "execution_count": null,
      "outputs": []
    },
    {
      "cell_type": "code",
      "source": [
        "import torch\n",
        "from IPython.display import Image  \n",
        "import os \n",
        "import random\n",
        "import shutil\n",
        "\n",
        "import xml.etree.ElementTree as ET\n",
        "from xml.dom import minidom\n",
        "from tqdm import tqdm\n",
        "from PIL import Image, ImageDraw\n",
        "import numpy as np\n",
        "import matplotlib.pyplot as plt"
      ],
      "metadata": {
        "id": "HpFumzcCddt8"
      },
      "execution_count": null,
      "outputs": []
    },
    {
      "cell_type": "code",
      "source": [
        "!git clone https://github.com/MahmudulAlam/Complete-Blood-Cell-Count-Dataset.git"
      ],
      "metadata": {
        "id": "ELbswPoPdSKe"
      },
      "execution_count": null,
      "outputs": []
    },
    {
      "cell_type": "code",
      "source": [
        "# to get the data from XML Annotation\n",
        "def extract_info_from_xml(xml_file):\n",
        "    root = ET.parse(xml_file).getroot()\n",
        "    info_dict = {}\n",
        "    info_dict['bboxes'] = []\n",
        "    for elem in root:\n",
        "        if elem.tag == \"filename\":\n",
        "            info_dict['filename'] = elem.text\n",
        "        elif elem.tag == \"size\":\n",
        "            image_size = []\n",
        "            for subelem in elem:\n",
        "                image_size.append(int(subelem.text))\n",
        "            \n",
        "            info_dict['image_size'] = tuple(image_size)\n",
        "\n",
        "        elif elem.tag == \"object\":\n",
        "            bbox = {}\n",
        "            for subelem in elem:\n",
        "                if subelem.tag == \"name\":\n",
        "                    bbox[\"class\"] = subelem.text\n",
        "                    \n",
        "                elif subelem.tag == \"bndbox\":\n",
        "                    for subsubelem in subelem:\n",
        "                        bbox[subsubelem.tag] = int(subsubelem.text)            \n",
        "            info_dict['bboxes'].append(bbox)\n",
        "    print(info_dict)     \n",
        "    return info_dict"
      ],
      "metadata": {
        "id": "wqSgXnUZdSlC"
      },
      "execution_count": null,
      "outputs": []
    },
    {
      "cell_type": "code",
      "source": [
        "# Maping names with IDs\n",
        "class_name_to_id_mapping = {\"RBC\": 0,\n",
        "                           \"WBC\": 1,\n",
        "                           \"Platelets\": 2\n",
        "                           }\n",
        "\n",
        "def convert_to_yolov5(info_dict,file):\n",
        "    print_buffer = []\n",
        "    for b in info_dict[\"bboxes\"]:\n",
        "        try:\n",
        "            class_id = class_name_to_id_mapping[b[\"class\"]]\n",
        "        except KeyError:\n",
        "            print(\"Invalid Class. Must be one from \", class_name_to_id_mapping.keys())\n",
        "        b_center_x = (b[\"xmin\"] + b[\"xmax\"]) / 2 \n",
        "        b_center_y = (b[\"ymin\"] + b[\"ymax\"]) / 2\n",
        "        b_width    = (b[\"xmax\"] - b[\"xmin\"])\n",
        "        b_height   = (b[\"ymax\"] - b[\"ymin\"])\n",
        "        \n",
        "        image_w, image_h, image_c = info_dict[\"image_size\"]  \n",
        "        b_center_x /= image_w \n",
        "        b_center_y /= image_h \n",
        "        b_width    /= image_w \n",
        "        b_height   /= image_h \n",
        "        \n",
        "        print_buffer.append(\"{} {:.3f} {:.3f} {:.3f} {:.3f}\".format(class_id, b_center_x, b_center_y, b_width, b_height))\n",
        "        \n",
        "    save_file_name = os.path.join(f\"/content/Complete-Blood-Cell-Count-Dataset/{file}/Annotations\", info_dict[\"filename\"].replace(\"jpg\", \"txt\"))\n",
        "    print(\"\\n\".join(print_buffer), file= open(save_file_name, \"w\"))"
      ],
      "metadata": {
        "id": "Lc7waQpadSjT"
      },
      "execution_count": null,
      "outputs": []
    },
    {
      "cell_type": "code",
      "source": [
        "# Get the annotations\n",
        "for i in ['Training','Validation','Testing']:\n",
        "  annotations = [os.path.join(f\"/content/Complete-Blood-Cell-Count-Dataset/{i}/Annotations\", x) for x in os.listdir(f\"/content/Complete-Blood-Cell-Count-Dataset/{i}/Annotations\") if x[-3:] == \"xml\"]\n",
        "  annotations.sort()\n",
        "  for ann in tqdm(annotations):\n",
        "      info_dict = extract_info_from_xml(ann)\n",
        "      convert_to_yolov5(info_dict,i)\n",
        "  annotations = [os.path.join(f\"/content/Complete-Blood-Cell-Count-Dataset/{i}/Annotations\", x) for x in os.listdir(f\"/content/Complete-Blood-Cell-Count-Dataset/{i}/Annotations\") if x[-3:] == \"txt\"]"
      ],
      "metadata": {
        "id": "F7i5FHHOdSgy"
      },
      "execution_count": null,
      "outputs": []
    },
    {
      "cell_type": "code",
      "source": [
        "train_images = [os.path.join('/content/Complete-Blood-Cell-Count-Dataset/Training/Images', x) for x in os.listdir('/content/Complete-Blood-Cell-Count-Dataset/Training/Images')]\n",
        "train_annotations = [os.path.join('/content/Complete-Blood-Cell-Count-Dataset/Training/Annotations', x) for x in os.listdir('/content/Complete-Blood-Cell-Count-Dataset/Training/Annotations') if x[-3:] == \"txt\"]\n",
        "\n",
        "test_images = [os.path.join('/content/Complete-Blood-Cell-Count-Dataset/Testing/Images', x) for x in os.listdir('/content/Complete-Blood-Cell-Count-Dataset/Testing/Images')]\n",
        "test_annotations = [os.path.join('/content/Complete-Blood-Cell-Count-Dataset/Testing/Annotations', x) for x in os.listdir('/content/Complete-Blood-Cell-Count-Dataset/Testing/Annotations') if x[-3:] == \"txt\"]\n",
        "\n",
        "val_images = [os.path.join('/content/Complete-Blood-Cell-Count-Dataset/Validation/Images', x) for x in os.listdir('/content/Complete-Blood-Cell-Count-Dataset/Validation/Images')]\n",
        "val_annotations = [os.path.join('/content/Complete-Blood-Cell-Count-Dataset/Validation/Annotations', x) for x in os.listdir('/content/Complete-Blood-Cell-Count-Dataset/Validation/Annotations') if x[-3:] == \"txt\"]\n",
        "\n",
        "\n",
        "train_images.sort()\n",
        "train_annotations.sort()\n",
        "\n",
        "test_images.sort()\n",
        "test_annotations.sort()\n",
        "\n",
        "val_images.sort()\n",
        "val_annotations.sort()\n"
      ],
      "metadata": {
        "id": "r_-6rytbdSes"
      },
      "execution_count": null,
      "outputs": []
    },
    {
      "cell_type": "code",
      "source": [
        "import os \n",
        "os.mkdir(\"/content/Complete-Blood-Cell-Count-Dataset/new_dataset\")\n",
        "os.mkdir(\"/content/Complete-Blood-Cell-Count-Dataset/new_dataset/images\")\n",
        "os.mkdir(\"/content/Complete-Blood-Cell-Count-Dataset/new_dataset/labels\")\n",
        "os.mkdir(\"/content/Complete-Blood-Cell-Count-Dataset/new_dataset/images/train\")\n",
        "os.mkdir(\"/content/Complete-Blood-Cell-Count-Dataset/new_dataset/images/val\")\n",
        "os.mkdir(\"/content/Complete-Blood-Cell-Count-Dataset/new_dataset/images/test\")\n",
        "os.mkdir(\"/content/Complete-Blood-Cell-Count-Dataset/new_dataset/labels/train\")\n",
        "os.mkdir(\"/content/Complete-Blood-Cell-Count-Dataset/new_dataset/labels/val\")\n",
        "os.mkdir(\"/content/Complete-Blood-Cell-Count-Dataset/new_dataset/labels/test\")\n",
        "#Utility function to move images \n",
        "def move_files_to_folder(list_of_files, destination_folder):\n",
        "    for f in list_of_files:\n",
        "        try:\n",
        "            shutil.move(f, destination_folder)\n",
        "        except:\n",
        "            print(f)\n",
        "            assert False\n",
        "\n",
        "# Move the splits into their folders\n",
        "move_files_to_folder(train_images, '/content/Complete-Blood-Cell-Count-Dataset/new_dataset/images/train/')\n",
        "move_files_to_folder(val_images, '/content/Complete-Blood-Cell-Count-Dataset/new_dataset/images/val/')\n",
        "move_files_to_folder(test_images, '/content/Complete-Blood-Cell-Count-Dataset/new_dataset/images/test/')\n",
        "move_files_to_folder(train_annotations, '/content/Complete-Blood-Cell-Count-Dataset/new_dataset/labels/train/')\n",
        "move_files_to_folder(val_annotations, '/content/Complete-Blood-Cell-Count-Dataset/new_dataset/labels/val/')\n",
        "move_files_to_folder(test_annotations, '/content/Complete-Blood-Cell-Count-Dataset/new_dataset/labels/test/')\n",
        "\n"
      ],
      "metadata": {
        "id": "-zXIrCtQdSc9"
      },
      "execution_count": null,
      "outputs": []
    },
    {
      "cell_type": "code",
      "source": [
        "#create file contain paths for dataset and classes\n",
        "with open('cbc_data.yaml', 'w') as f:\n",
        "    f.write('train: ../Complete-Blood-Cell-Count-Dataset/new_dataset/images/train\\n')\n",
        "    f.write('val: ../Complete-Blood-Cell-Count-Dataset/new_dataset/images/val\\n')\n",
        "    f.write('test: ../Complete-Blood-Cell-Count-Dataset/new_dataset/images/test\\n')\n",
        "    f.write('nc: 3\\n')\n",
        "    f.write('names: [\"RBC\",\"WBC\", \"Platelets\"]\\n')\n"
      ],
      "metadata": {
        "id": "OVAaga1XnjiC"
      },
      "execution_count": null,
      "outputs": []
    },
    {
      "cell_type": "markdown",
      "source": [
        "##Train "
      ],
      "metadata": {
        "id": "C81vvEbYv7Ek"
      }
    },
    {
      "cell_type": "code",
      "source": [
        "!python /content/yolov5/train.py  --img 416 --batch 32 --epochs 2 --data /content/cbc_data.yaml --weights yolov5s.pt\n"
      ],
      "metadata": {
        "id": "vdMKaD57qxL5"
      },
      "execution_count": null,
      "outputs": []
    },
    {
      "cell_type": "markdown",
      "source": [
        "##Export "
      ],
      "metadata": {
        "id": "HBLF8lpzwiUj"
      }
    },
    {
      "cell_type": "code",
      "source": [
        "!python  /content/yolov5/export.py  --weights /content/yolov5/runs/train/exp/weights/best.pt --include tflite --img 416\n"
      ],
      "metadata": {
        "id": "FIoNZpDrqxG1"
      },
      "execution_count": null,
      "outputs": []
    },
    {
      "cell_type": "markdown",
      "source": [
        "##Predict "
      ],
      "metadata": {
        "id": "uExpcfRtwpWn"
      }
    },
    {
      "cell_type": "code",
      "source": [
        "!python /content/yolov5/detect.py --weights /content/yolov5/runs/train/exp/weights/best.torchscript  --img 640 --conf 0.25 --source /content/Complete-Blood-Cell-Count-Dataset/new_dataset/images/test/BloodImage_00347.jpg"
      ],
      "metadata": {
        "id": "Aw_lXbIdqxEM"
      },
      "execution_count": null,
      "outputs": []
    }
  ]
}